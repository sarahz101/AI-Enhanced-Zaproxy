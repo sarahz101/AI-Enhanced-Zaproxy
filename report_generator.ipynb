{
 "cells": [
  {
   "cell_type": "code",
   "execution_count": 9,
   "id": "a0a52c67",
   "metadata": {
    "lines_to_next_cell": 1
   },
   "outputs": [],
   "source": [
    "import os\n",
    "import html\n",
    "from datetime import datetime\n",
    "import pandas as pd \n",
    "from text_utils import simplify_explanation"
   ]
  },
  {
   "cell_type": "code",
   "execution_count": 10,
   "id": "a41348a3",
   "metadata": {
    "lines_to_next_cell": 1
   },
   "outputs": [],
   "source": [
    "def load_alerts_from_excel(filepath):\n",
    "    df = pd.read_excel(filepath)\n",
    "    alerts = []\n",
    "    for _, row in df.iterrows():\n",
    "        alert = {\n",
    "            'name': row['ZAP Alert Name'],\n",
    "            'severity': float(row['Risk']),\n",
    "            'description': row.get('Description', 'No description available.'),\n",
    "            'remediation': row.get('Remediation', 'No remediation available.')\n",
    "        }\n",
    "        alerts.append(alert)\n",
    "    return alerts"
   ]
  },
  {
   "cell_type": "code",
   "execution_count": 11,
   "id": "cf0eac8f",
   "metadata": {
    "lines_to_next_cell": 1
   },
   "outputs": [],
   "source": [
    "def deduplicate_alerts(alerts):\n",
    "    seen = set()\n",
    "    deduped = []\n",
    "    for alert in alerts:\n",
    "        name = alert['name']\n",
    "        if name not in seen:\n",
    "            deduped.append(alert)\n",
    "            seen.add(name)\n",
    "    return deduped"
   ]
  },
  {
   "cell_type": "code",
   "execution_count": 12,
   "id": "d1c1136f",
   "metadata": {},
   "outputs": [],
   "source": [
    "def generate_report(alerts, target_url):\n",
    "    output_dir = \"reports\"\n",
    "    os.makedirs(output_dir, exist_ok=True)\n",
    "\n",
    "\n",
    "    deduped_alerts = deduplicate_alerts(alerts)\n",
    "\n",
    "    alerts_sorted = sorted(deduped_alerts, key=lambda v: float(v['severity']), reverse=True)\n",
    "\n",
    "    safe_url = target_url.replace(\":\", \"_\").replace(\"/\", \"_\")\n",
    "    timestamp = datetime.now().strftime(\"%Y%m%d_%H%M%S\")\n",
    "    report_filename = f\"report_{safe_url}_{timestamp}.html\"\n",
    "    report_path = os.path.join(output_dir, report_filename)\n",
    "\n",
    "    unique_terms = get_unique_terms(alerts_sorted)\n",
    "    explanations = {term: simplify_explanation(term) for term in unique_terms}\n",
    "\n",
    "    report_html = f\"\"\"\n",
    "    <html>\n",
    "    <head>\n",
    "        <title>Security Report - {html.escape(target_url)}</title>\n",
    "        <style>\n",
    "            body {{ font-family: Arial, sans-serif; margin: 2rem; }}\n",
    "            .vuln {{ border: 2px solid #ddd; padding: 1rem; border-radius: 8px; margin-bottom: 1.5rem; }}\n",
    "            .high {{ border-color: #e74c3c; background-color: #fcebea; }}\n",
    "            .medium {{ border-color: #f39c12; background-color: #fff6e5; }}\n",
    "            .low {{ border-color: #3498db; background-color: #eaf3fc; }}\n",
    "            details {{ margin-top: 0.5rem; }}\n",
    "        </style>\n",
    "    </head>\n",
    "    <body>\n",
    "        <h1>Security Report for {html.escape(target_url)}</h1>\n",
    "        <p><strong>Generated:</strong> {datetime.now().strftime('%Y-%m-%d %H:%M:%S')}</p>\n",
    "        <h3>Total Vulnerabilities Found: {len(alerts_sorted)}</h3>\n",
    "        {\"\".join([create_vuln_section(v, explanations) for v in alerts_sorted])}\n",
    "    </body>\n",
    "    </html>\n",
    "    \"\"\"\n",
    "\n",
    "    with open(report_path, 'w', encoding='utf-8') as f:\n",
    "        f.write(report_html)\n",
    "\n",
    "    return os.path.abspath(report_path)"
   ]
  },
  {
   "cell_type": "code",
   "execution_count": 13,
   "id": "dc5ea7ec",
   "metadata": {
    "lines_to_next_cell": 1
   },
   "outputs": [],
   "source": [
    "def create_vuln_section(vuln, explanations):\n",
    "    name = html.escape(vuln['name'])\n",
    "    severity = float(vuln['severity'])\n",
    "\n",
    "    if severity >= 7:\n",
    "        severity_class = \"high\"\n",
    "    elif severity >= 4:\n",
    "        severity_class = \"medium\"\n",
    "    else:\n",
    "        severity_class = \"low\"\n",
    "\n",
    "    simplified = html.escape(explanations.get(vuln['name'], \"No explanation available.\"))\n",
    "\n",
    "    description = html.escape(vuln.get('description', 'No description available.'))\n",
    "    remediation = html.escape(vuln.get('remediation', 'No remediation available.'))\n",
    "\n",
    "    return f\"\"\"\n",
    "    <div class=\"vuln {severity_class}\">\n",
    "        <h3>{name}</h3>\n",
    "        <p><strong>Severity:</strong> {severity:.2f}/10</p>\n",
    "        <details>\n",
    "            <summary><strong>Explanation & Remediation</strong></summary>\n",
    "            <p>{description}</p>\n",
    "            <p><em>{simplified}</em></p>\n",
    "            <h4>Recommended Action:</h4>\n",
    "            <p>{remediation}</p>\n",
    "        </details>\n",
    "    </div>\n",
    "    \"\"\""
   ]
  },
  {
   "cell_type": "code",
   "execution_count": 14,
   "id": "f32d9ad9",
   "metadata": {},
   "outputs": [],
   "source": [
    "def get_unique_terms(alerts):\n",
    "    return list({v['name'] for v in alerts})"
   ]
  }
 ],
 "metadata": {
  "jupytext": {
   "cell_metadata_filter": "-all",
   "main_language": "python",
   "notebook_metadata_filter": "-all"
  },
  "kernelspec": {
   "display_name": "base",
   "language": "python",
   "name": "python3"
  },
  "language_info": {
   "codemirror_mode": {
    "name": "ipython",
    "version": 3
   },
   "file_extension": ".py",
   "mimetype": "text/x-python",
   "name": "python",
   "nbconvert_exporter": "python",
   "pygments_lexer": "ipython3",
   "version": "3.12.7"
  }
 },
 "nbformat": 4,
 "nbformat_minor": 5
}
