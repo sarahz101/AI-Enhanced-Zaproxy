{
 "cells": [
  {
   "cell_type": "code",
   "execution_count": 12,
   "id": "1188cdba",
   "metadata": {},
   "outputs": [],
   "source": [
    "import os\n",
    "import tkinter as tk\n",
    "from tkinter import ttk, messagebox\n",
    "import webbrowser\n",
    "from zap_scanner import ZAPScanner\n",
    "from AI_Module import AIModel\n",
    "from report_generator import generate_report"
   ]
  },
  {
   "cell_type": "code",
   "execution_count": 13,
   "id": "af05b45b",
   "metadata": {
    "lines_to_next_cell": 1
   },
   "outputs": [],
   "source": [
    "# Suppress TensorFlow warnings\n",
    "os.environ['TF_ENABLE_ONEDNN_OPTS'] = '0'\n",
    "os.environ['TF_CPP_MIN_LOG_LEVEL'] = '2'"
   ]
  },
  {
   "cell_type": "code",
   "execution_count": 14,
   "id": "bdb80626",
   "metadata": {
    "lines_to_next_cell": 1
   },
   "outputs": [],
   "source": [
    "class ScannerGUI:\n",
    "    def __init__(self, root):\n",
    "        self.root = root\n",
    "        self.root.title(\"AI-Based Vulnerability Scanner\")\n",
    "        self.root.geometry(\"420x180\")\n",
    "        self.root.resizable(False, False)\n",
    "\n",
    "        ttk.Label(root, text=\"Enter Website URL:\", font=(\"Arial\", 10)).pack(pady=(20, 5))\n",
    "\n",
    "        self.url_entry = ttk.Entry(root, width=50)\n",
    "        self.url_entry.pack(pady=(0, 10))\n",
    "\n",
    "        self.scan_btn = ttk.Button(root, text=\"Generate Report\", command=self.start_scan)\n",
    "        self.scan_btn.pack()\n",
    "\n",
    "        self.ai = AIModel()\n",
    "        if not os.path.exists(\"vulnerabilities.xlsx\"):\n",
    "            messagebox.showerror(\"Missing File\", \"vulnerabilities.xlsx not found. Please ensure it exists.\")\n",
    "            root.destroy()\n",
    "        else:\n",
    "            self.ai.train(\"vulnerabilities.xlsx\")\n",
    "\n",
    "    def start_scan(self):\n",
    "        url = self.url_entry.get().strip()\n",
    "        if not url.startswith(\"http\"):\n",
    "            messagebox.showerror(\"Invalid URL\", \"Please enter a valid URL (starting with http or https).\")\n",
    "            return\n",
    "\n",
    "        self.scan_btn.config(text=\"Scanning...\", state=tk.DISABLED)\n",
    "        self.root.after(100, lambda: self.run_scan(url))\n",
    "\n",
    "    def run_scan(self, url):\n",
    "        try:\n",
    "            scanner = ZAPScanner()\n",
    "            alerts = scanner.scan(url)\n",
    "\n",
    "            if not alerts:\n",
    "                messagebox.showinfo(\"Scan Complete\", \"No vulnerabilities detected.\")\n",
    "                self.scan_btn.config(text=\"Generate Report\", state=tk.NORMAL)\n",
    "                return\n",
    "\n",
    "            processed_alerts = []\n",
    "            for alert in alerts:\n",
    "                predicted = self.ai.predict(\n",
    "                    alert.get('name', ''),\n",
    "                    alert.get('description', ''),\n",
    "                    alert.get('risk', 'Medium')\n",
    "                )\n",
    "                processed_alerts.append(predicted)\n",
    "\n",
    "            report_path = generate_report(processed_alerts, url)\n",
    "\n",
    "            if os.path.exists(report_path):\n",
    "                webbrowser.open(report_path)\n",
    "                messagebox.showinfo(\"Report Generated\", f\"Report saved and opened:\\n{report_path}\")\n",
    "\n",
    "        except Exception as e:\n",
    "            messagebox.showerror(\"Scan Error\", str(e))\n",
    "\n",
    "        finally:\n",
    "            self.scan_btn.config(text=\"Generate Report\", state=tk.NORMAL)"
   ]
  },
  {
   "cell_type": "code",
   "execution_count": 15,
   "id": "19cd2ab8",
   "metadata": {},
   "outputs": [
    {
     "name": "stdout",
     "output_type": "stream",
     "text": [
      "Starting scan for http://example.com\n",
      "\u001b[1m1/1\u001b[0m \u001b[32m━━━━━━━━━━━━━━━━━━━━\u001b[0m\u001b[37m\u001b[0m \u001b[1m0s\u001b[0m 32ms/step\n",
      "\u001b[1m1/1\u001b[0m \u001b[32m━━━━━━━━━━━━━━━━━━━━\u001b[0m\u001b[37m\u001b[0m \u001b[1m0s\u001b[0m 18ms/step\n",
      "\u001b[1m1/1\u001b[0m \u001b[32m━━━━━━━━━━━━━━━━━━━━\u001b[0m\u001b[37m\u001b[0m \u001b[1m0s\u001b[0m 17ms/step\n",
      "\u001b[1m1/1\u001b[0m \u001b[32m━━━━━━━━━━━━━━━━━━━━\u001b[0m\u001b[37m\u001b[0m \u001b[1m0s\u001b[0m 21ms/step\n",
      "\u001b[1m1/1\u001b[0m \u001b[32m━━━━━━━━━━━━━━━━━━━━\u001b[0m\u001b[37m\u001b[0m \u001b[1m0s\u001b[0m 19ms/step\n",
      "\u001b[1m1/1\u001b[0m \u001b[32m━━━━━━━━━━━━━━━━━━━━\u001b[0m\u001b[37m\u001b[0m \u001b[1m0s\u001b[0m 17ms/step\n",
      "\u001b[1m1/1\u001b[0m \u001b[32m━━━━━━━━━━━━━━━━━━━━\u001b[0m\u001b[37m\u001b[0m \u001b[1m0s\u001b[0m 15ms/step\n",
      "\u001b[1m1/1\u001b[0m \u001b[32m━━━━━━━━━━━━━━━━━━━━\u001b[0m\u001b[37m\u001b[0m \u001b[1m0s\u001b[0m 16ms/step\n",
      "Regex error with pattern '\\bwindows\\ path\\ traversal\\b': bad escape \\W at position 38\n",
      "Regex error with pattern '\\bwindows\\ path\\ traversal\\b': bad escape \\W at position 38\n",
      "Regex error with pattern '\\bwindows\\ path\\ traversal\\b': bad escape \\W at position 38\n"
     ]
    }
   ],
   "source": [
    "if __name__ == \"__main__\":\n",
    "    root = tk.Tk()\n",
    "    app = ScannerGUI(root)\n",
    "    root.mainloop()"
   ]
  }
 ],
 "metadata": {
  "jupytext": {
   "cell_metadata_filter": "-all",
   "main_language": "python",
   "notebook_metadata_filter": "-all"
  },
  "kernelspec": {
   "display_name": "base",
   "language": "python",
   "name": "python3"
  },
  "language_info": {
   "codemirror_mode": {
    "name": "ipython",
    "version": 3
   },
   "file_extension": ".py",
   "mimetype": "text/x-python",
   "name": "python",
   "nbconvert_exporter": "python",
   "pygments_lexer": "ipython3",
   "version": "3.12.7"
  }
 },
 "nbformat": 4,
 "nbformat_minor": 5
}
