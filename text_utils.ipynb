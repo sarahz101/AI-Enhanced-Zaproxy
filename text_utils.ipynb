{
 "cells": [
  {
   "cell_type": "code",
   "execution_count": 5,
   "id": "f9fd39d3",
   "metadata": {},
   "outputs": [],
   "source": [
    "import pandas as pd\n",
    "import re"
   ]
  },
  {
   "cell_type": "code",
   "execution_count": 6,
   "id": "0371d4e4",
   "metadata": {},
   "outputs": [],
   "source": [
    "vuln_df = pd.read_excel(\"vulnerabilities.xlsx\")"
   ]
  },
  {
   "cell_type": "code",
   "execution_count": 7,
   "id": "94098997",
   "metadata": {
    "lines_to_next_cell": 1
   },
   "outputs": [],
   "source": [
    "replacements_dict = {\n",
    "    str(name).lower(): str(description)\n",
    "    for name, description in zip(vuln_df['ZAP Alert Name'], vuln_df['Description'])\n",
    "    if pd.notna(name) and pd.notna(description)\n",
    "}"
   ]
  },
  {
   "cell_type": "code",
   "execution_count": 4,
   "id": "0d4a4c73",
   "metadata": {},
   "outputs": [],
   "source": [
    "def simplify_explanation(text):\n",
    "    text_lower = text.lower()\n",
    "\n",
    "    for term, explanation in replacements_dict.items():\n",
    "        # Safely escape special regex characters in the term\n",
    "        pattern = rf'\\b{re.escape(term)}\\b'\n",
    "        try:\n",
    "            text_lower = re.sub(pattern, explanation, text_lower)\n",
    "        except re.error as e:\n",
    "            print(f\"Regex error with pattern '{pattern}': {e}\")\n",
    "            continue\n",
    "\n",
    "    return text_lower.capitalize()"
   ]
  }
 ],
 "metadata": {
  "jupytext": {
   "cell_metadata_filter": "-all",
   "main_language": "python",
   "notebook_metadata_filter": "-all"
  },
  "kernelspec": {
   "display_name": "base",
   "language": "python",
   "name": "python3"
  },
  "language_info": {
   "codemirror_mode": {
    "name": "ipython",
    "version": 3
   },
   "file_extension": ".py",
   "mimetype": "text/x-python",
   "name": "python",
   "nbconvert_exporter": "python",
   "pygments_lexer": "ipython3",
   "version": "3.12.7"
  }
 },
 "nbformat": 4,
 "nbformat_minor": 5
}
