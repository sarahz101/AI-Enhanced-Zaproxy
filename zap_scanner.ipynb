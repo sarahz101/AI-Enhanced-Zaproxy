{
 "cells": [
  {
   "cell_type": "code",
   "execution_count": 3,
   "id": "77f581eb",
   "metadata": {
    "lines_to_next_cell": 1
   },
   "outputs": [],
   "source": [
    "import time\n",
    "from zapv2 import ZAPv2"
   ]
  },
  {
   "cell_type": "code",
   "execution_count": 4,
   "id": "9412b966",
   "metadata": {},
   "outputs": [],
   "source": [
    "class ZAPScanner:\n",
    "    def __init__(self):\n",
    "        self.zap = ZAPv2(apikey=\"gki1bd0v1bbmsft2b8daqvfdqe\", proxies={'http': 'http://localhost:8080'})\n",
    "\n",
    "    def scan(self, url):\n",
    "        try:\n",
    "            print(f\"Starting scan for {url}\")\n",
    "            self.zap.urlopen(url)\n",
    "\n",
    "            # Spidering\n",
    "            scan_id = self.zap.spider.scan(url)\n",
    "            while int(self.zap.spider.status(scan_id)) < 100:\n",
    "                time.sleep(1)\n",
    "\n",
    "            # Active Scan\n",
    "            scan_id = self.zap.ascan.scan(url)\n",
    "            while int(self.zap.ascan.status(scan_id)) < 100:\n",
    "                time.sleep(5)\n",
    "\n",
    "            return [{\n",
    "                'name': alert['alert'],\n",
    "                'description': alert['description'],\n",
    "                'risk': alert['risk']\n",
    "            } for alert in self.zap.core.alerts()]\n",
    "\n",
    "        except Exception as e:\n",
    "            print(f\"Scan failed: {str(e)}\")\n",
    "            return []"
   ]
  }
 ],
 "metadata": {
  "jupytext": {
   "cell_metadata_filter": "-all",
   "main_language": "python",
   "notebook_metadata_filter": "-all"
  },
  "kernelspec": {
   "display_name": "base",
   "language": "python",
   "name": "python3"
  },
  "language_info": {
   "codemirror_mode": {
    "name": "ipython",
    "version": 3
   },
   "file_extension": ".py",
   "mimetype": "text/x-python",
   "name": "python",
   "nbconvert_exporter": "python",
   "pygments_lexer": "ipython3",
   "version": "3.12.7"
  }
 },
 "nbformat": 4,
 "nbformat_minor": 5
}
