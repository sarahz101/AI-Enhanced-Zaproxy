{
 "cells": [
  {
   "cell_type": "code",
   "execution_count": 4,
   "id": "1aabf067",
   "metadata": {
    "lines_to_next_cell": 1
   },
   "outputs": [],
   "source": [
    "import pandas as pd\n",
    "import numpy as np\n",
    "from sklearn.svm import SVC\n",
    "from sklearn.preprocessing import LabelEncoder\n",
    "import tensorflow as tf"
   ]
  },
  {
   "cell_type": "code",
   "execution_count": null,
   "id": "81ab7cdb",
   "metadata": {},
   "outputs": [],
   "source": [
    "class AIModel:\n",
    "    def __init__(self):\n",
    "        self.svm = SVC()\n",
    "        self.ann = self._build_ann()\n",
    "        self.label_encoder = LabelEncoder()\n",
    "        self.word_index = {}\n",
    "\n",
    "    def _build_ann(self):\n",
    "        model = tf.keras.Sequential([\n",
    "            tf.keras.layers.Input(shape=(2,)),\n",
    "            tf.keras.layers.Dense(8, activation='relu'),\n",
    "            tf.keras.layers.Dense(1, activation='sigmoid')  # Changed from 'linear' to 'sigmoid'\n",
    "        ])\n",
    "        model.compile(optimizer='adam', loss='mse')\n",
    "        return model\n"
   ]
  },
  {
   "cell_type": "code",
   "execution_count": 7,
   "id": "cee7e842",
   "metadata": {},
   "outputs": [],
   "source": [
    "\n",
    "def train(self, data_path):\n",
    "        df = pd.read_excel(data_path, engine='openpyxl')\n",
    "        df.columns = df.columns.str.strip()\n",
    "\n",
    "        required_columns = ['ZAP Alert Name', 'Description', 'CWE', 'Risk']\n",
    "        for col in required_columns:\n",
    "            if col not in df.columns:\n",
    "                raise ValueError(f\"Missing required column: {col}\")\n",
    "\n",
    "        texts = (df['ZAP Alert Name'].astype(str) + \" \" + df['Description'].astype(str))\n",
    "        self.word_index = {word: idx for idx, word in enumerate(set(\" \".join(texts).split()))}\n",
    "\n",
    "        X_svm = np.array([\n",
    "            np.mean([self.word_index.get(word, 0) for word in text.split()] or [0])\n",
    "            for text in texts\n",
    "        ]).reshape(-1, 1)\n",
    "\n",
    "        df['CWE'] = df['CWE'].astype(str)\n",
    "        self.label_encoder.fit(df['CWE'])\n",
    "        y_svm = self.label_encoder.transform(df['CWE'])\n",
    "\n",
    "        self.svm.fit(X_svm, y_svm)\n",
    "\n",
    "        df['CWE_encoded'] = self.label_encoder.transform(df['CWE'])\n",
    "        df['Risk'] = pd.to_numeric(df['Risk'], errors='coerce')\n",
    "        df = df.dropna(subset=['CWE_encoded', 'Risk'])\n",
    "\n",
    "        X_ann = df[['CWE_encoded', 'Risk']].values\n",
    "        y_ann = df['Risk'].values\n",
    "\n",
    "        self.ann.fit(X_ann, y_ann, epochs=10, verbose=0)\n",
    "\n",
    "    "
   ]
  },
  {
   "cell_type": "code",
   "execution_count": null,
   "id": "aaa9c9af",
   "metadata": {},
   "outputs": [],
   "source": [
    "def predict(self, alert_name, description, risk_label=\"Medium\"):\n",
    "        if not self.word_index:\n",
    "            raise RuntimeError(\"Model must be trained before prediction.\")\n",
    "\n",
    "        text = alert_name + \" \" + description\n",
    "        words = [self.word_index.get(word, 0) for word in text.split()]\n",
    "        mean_val = np.mean(words)\n",
    "        cwe_idx = self.svm.predict(np.array([[mean_val]]))[0]\n",
    "        cwe = self.label_encoder.inverse_transform([cwe_idx])[0]\n",
    "\n",
    "        risk_map = {'Informational': 1, 'Low': 3, 'Medium': 5, 'High': 8}\n",
    "        risk_val = risk_map.get(risk_label, 5)\n",
    "\n",
    "        severity = self.ann.predict(np.array([[cwe_idx, risk_val]]))[0][0] * 10 \n",
    "\n",
    "        return {\n",
    "            'name': alert_name,\n",
    "            'description': description,\n",
    "            'severity': round(severity, 2),\n",
    "            'cwe': cwe,\n",
    "            'solution': f\"Refer to CWE-{cwe} mitigation strategies.\"\n",
    "        }"
   ]
  }
 ],
 "metadata": {
  "jupytext": {
   "cell_metadata_filter": "-all",
   "main_language": "python",
   "notebook_metadata_filter": "-all"
  },
  "kernelspec": {
   "display_name": "base",
   "language": "python",
   "name": "python3"
  },
  "language_info": {
   "codemirror_mode": {
    "name": "ipython",
    "version": 3
   },
   "file_extension": ".py",
   "mimetype": "text/x-python",
   "name": "python",
   "nbconvert_exporter": "python",
   "pygments_lexer": "ipython3",
   "version": "3.12.7"
  }
 },
 "nbformat": 4,
 "nbformat_minor": 5
}
